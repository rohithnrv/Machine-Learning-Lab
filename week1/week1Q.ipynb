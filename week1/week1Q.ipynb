{
 "cells": [
  {
   "cell_type": "code",
   "execution_count": 1,
   "id": "7eda9a33-a371-4cfb-aa1a-21c29055b0d5",
   "metadata": {},
   "outputs": [
    {
     "name": "stdout",
     "output_type": "stream",
     "text": [
      "       TransactionID    UserID  ProductID   Quantity\n",
      "count       10.00000  9.000000  10.000000  10.000000\n",
      "mean         5.50000  3.444444   3.400000   2.400000\n",
      "std          3.02765  2.127858   1.074968   1.712698\n",
      "min          1.00000  1.000000   2.000000   1.000000\n",
      "25%          3.25000  2.000000   2.250000   1.000000\n",
      "50%          5.50000  3.000000   4.000000   2.000000\n",
      "75%          7.75000  3.000000   4.000000   3.000000\n",
      "max         10.00000  7.000000   5.000000   6.000000\n"
     ]
    }
   ],
   "source": [
    "import pandas as pd\n",
    "\n",
    "df=pd.read_csv('transactions.csv')\n",
    "print(df.describe())"
   ]
  },
  {
   "cell_type": "code",
   "execution_count": null,
   "id": "2df48248",
   "metadata": {},
   "outputs": [],
   "source": []
  },
  {
   "cell_type": "code",
   "execution_count": null,
   "id": "63a3f37d-9817-4376-9ca3-329a7fc84de8",
   "metadata": {},
   "outputs": [],
   "source": []
  },
  {
   "cell_type": "code",
   "execution_count": 4,
   "id": "e14e97da-79f9-4caf-8234-df604b2133ab",
   "metadata": {},
   "outputs": [
    {
     "name": "stdout",
     "output_type": "stream",
     "text": [
      "Number of columns : 5\n",
      "\n",
      "Number of Attributes: 5\n"
     ]
    }
   ],
   "source": [
    "num_col=len(df.columns)\n",
    "print(\"Number of columns :\",num_col)\n",
    "\n",
    "print(\"\\nNumber of Attributes:\", df.shape[1])\n"
   ]
  },
  {
   "cell_type": "code",
   "execution_count": 10,
   "id": "95fc8f60-525a-4574-87a7-5a771f38f272",
   "metadata": {},
   "outputs": [
    {
     "name": "stdout",
     "output_type": "stream",
     "text": [
      "Number of rows : 10\n"
     ]
    }
   ],
   "source": [
    "num_row=len(df)\n",
    "print(\"Number of rows :\",num_row)    #records"
   ]
  },
  {
   "cell_type": "code",
   "execution_count": 5,
   "id": "a35b6de8-3c41-485e-b34a-6aaa2a46ddc8",
   "metadata": {},
   "outputs": [
    {
     "name": "stdout",
     "output_type": "stream",
     "text": [
      "Index(['TransactionID', 'TransactionDate', 'UserID', 'ProductID', 'Quantity'], dtype='object')\n"
     ]
    }
   ],
   "source": [
    "print(df.columns)\n"
   ]
  },
  {
   "cell_type": "code",
   "execution_count": 8,
   "id": "f3ea77e7-6cf8-459b-9080-a6971a4dc262",
   "metadata": {},
   "outputs": [
    {
     "name": "stdout",
     "output_type": "stream",
     "text": [
      "   TransactionID TransactionDate  UserID  ProductID  Quantity\n",
      "0              1      2010-08-21     7.0          2         1\n",
      "1              2      2011-05-26     3.0          4         1\n",
      "2              3      2011-06-16     3.0          3         1\n",
      "3              4      2012-08-26     1.0          2         3\n",
      "4              5      2013-06-06     2.0          4         1\n",
      "5              6      2013-12-23     2.0          5         6\n",
      "6              7      2013-12-30     3.0          4         1\n",
      "7              8      2014-04-24     NaN          2         3\n",
      "8              9      2015-04-24     7.0          4         3\n",
      "9             10      2016-05-08     3.0          4         4\n"
     ]
    }
   ],
   "source": [
    "top10=df.head(10)\n",
    "print(top10)"
   ]
  },
  {
   "cell_type": "code",
   "execution_count": 9,
   "id": "735b1fa8-7f13-4204-b95f-d7cea305d849",
   "metadata": {},
   "outputs": [
    {
     "name": "stdout",
     "output_type": "stream",
     "text": [
      "RangeIndex(start=0, stop=10, step=1)\n"
     ]
    }
   ],
   "source": [
    "print(df.index)\n"
   ]
  },
  {
   "cell_type": "code",
   "execution_count": 25,
   "id": "3ccd89b6-7f57-4058-abf2-4ad3f7ce9268",
   "metadata": {},
   "outputs": [
    {
     "name": "stdout",
     "output_type": "stream",
     "text": [
      "Index(['TransactionID', 'TransactionDate', 'UID', 'UID', 'Quant'], dtype='object')\n"
     ]
    }
   ],
   "source": [
    "#7.Change the name of column “ Quantity” to “Quant”\n",
    "df.rename(columns={'Quantity':'Quant'}, inplace=True)\n",
    "print(df.columns)"
   ]
  },
  {
   "cell_type": "code",
   "execution_count": 29,
   "id": "952c6a6a-4fc3-4cfc-abb7-7b84b8aa0fca",
   "metadata": {
    "scrolled": true
   },
   "outputs": [
    {
     "name": "stdout",
     "output_type": "stream",
     "text": [
      "Index(['TransactionID', 'TransactionDate', 'PID', 'PID', 'Quant'], dtype='object')\n"
     ]
    }
   ],
   "source": [
    "#8.Change the name of columns ProductID and UserID\n",
    "df.rename(columns={'UID': 'PID'}, inplace=True)\n",
    "\n",
    "print(df.columns)"
   ]
  },
  {
   "cell_type": "code",
   "execution_count": 31,
   "id": "63dcb1e6-1bdd-4f36-8df5-a376592fae4b",
   "metadata": {},
   "outputs": [
    {
     "name": "stdout",
     "output_type": "stream",
     "text": [
      "Index(['TransactionID', 'TransactionDate', 'UID', 'PID', 'Quant'], dtype='object')\n"
     ]
    }
   ],
   "source": [
    "df.columns = ['TransactionID', 'TransactionDate', 'UID', 'PID', 'Quant']\n",
    "print(df.columns)"
   ]
  },
  {
   "cell_type": "code",
   "execution_count": 35,
   "id": "4ae7f099-ae14-4d81-bd96-b94eeca056fc",
   "metadata": {},
   "outputs": [
    {
     "name": "stdout",
     "output_type": "stream",
     "text": [
      "   TransactionID TransactionDate  UID  PID  Quant\n",
      "0              1      2010-08-21  7.0    2      1\n",
      "1              2      2011-05-26  3.0    4      1\n",
      "2              3      2011-06-16  3.0    3      1\n",
      "3              4      2012-08-26  1.0    2      3\n",
      "4              5      2013-06-06  2.0    4      1\n",
      "5              6      2013-12-23  2.0    5      6\n",
      "6              7      2013-12-30  3.0    4      1\n",
      "7              8      2014-04-24  NaN    2      3\n",
      "8              9      2015-04-24  7.0    4      3\n",
      "9             10      2016-05-08  3.0    4      4\n"
     ]
    }
   ],
   "source": [
    "#9. Order the rows of transactions by TransactionId descending, if ascending then ascending=True\n",
    "df = df.sort_values(by='TransactionID', ascending=True)\n",
    "print(df)"
   ]
  },
  {
   "cell_type": "code",
   "execution_count": 36,
   "id": "7d1b6cfa",
   "metadata": {},
   "outputs": [
    {
     "name": "stdout",
     "output_type": "stream",
     "text": [
      "   TransactionID TransactionDate  UID  PID  Quant\n",
      "0              1      2010-08-21  7.0    2      1\n",
      "1              2      2011-05-26  3.0    4      1\n",
      "2              3      2011-06-16  3.0    3      1\n",
      "4              5      2013-06-06  2.0    4      1\n",
      "6              7      2013-12-30  3.0    4      1\n",
      "3              4      2012-08-26  1.0    2      3\n",
      "7              8      2014-04-24  NaN    2      3\n",
      "8              9      2015-04-24  7.0    4      3\n",
      "9             10      2016-05-08  3.0    4      4\n",
      "5              6      2013-12-23  2.0    5      6\n"
     ]
    }
   ],
   "source": [
    "#10. Order the rows of transactions by Quantity ascending, TransactionDate descending\n",
    "desc=df.sort_values(by='Quant', ascending=True)\n",
    "print(desc)"
   ]
  },
  {
   "cell_type": "code",
   "execution_count": 37,
   "id": "d65ac5ef",
   "metadata": {},
   "outputs": [
    {
     "name": "stdout",
     "output_type": "stream",
     "text": [
      "   PID  Quant TransactionDate  TransactionID  UID\n",
      "0    2      1      2010-08-21              1  7.0\n",
      "1    4      1      2011-05-26              2  3.0\n",
      "2    3      1      2011-06-16              3  3.0\n",
      "3    2      3      2012-08-26              4  1.0\n",
      "4    4      1      2013-06-06              5  2.0\n",
      "5    5      6      2013-12-23              6  2.0\n",
      "6    4      1      2013-12-30              7  3.0\n",
      "7    2      3      2014-04-24              8  NaN\n",
      "8    4      3      2015-04-24              9  7.0\n",
      "9    4      4      2016-05-08             10  3.0\n"
     ]
    }
   ],
   "source": [
    "#11. Set the column order of Transactions as ProductID, Quantity, TransactionDate, TransactionID, UserID\n",
    "df = df[['PID', 'Quant', 'TransactionDate', 'TransactionID', 'UID']]\n",
    "print(df)"
   ]
  },
  {
   "cell_type": "code",
   "execution_count": 39,
   "id": "618dc73c",
   "metadata": {},
   "outputs": [
    {
     "name": "stdout",
     "output_type": "stream",
     "text": [
      "Index(['UID', 'PID', 'Quant', 'TransactionDate', 'TransactionID'], dtype='object')\n"
     ]
    }
   ],
   "source": [
    "#12. Make UserID the first column of transactions\n",
    "# Reorder columns with UserID first\n",
    "cols = ['UID'] + [col for col in df.columns if col != 'UID']\n",
    "df = df[cols]\n",
    "print(df.columns)\n"
   ]
  },
  {
   "cell_type": "code",
   "execution_count": 45,
   "id": "7a552d3c",
   "metadata": {},
   "outputs": [
    {
     "name": "stdout",
     "output_type": "stream",
     "text": [
      "[2 4 3 2 4 5 4 2 4 4]\n"
     ]
    }
   ],
   "source": [
    "#13. Extracting arrays from a Data Frame. Get the 2nd column\n",
    "\n",
    "# indexing starting from '0'\n",
    "\n",
    "second_col = df.iloc[:, 1].values\n",
    "print(second_col)"
   ]
  },
  {
   "cell_type": "code",
   "execution_count": 47,
   "id": "30f50b03",
   "metadata": {},
   "outputs": [
    {
     "name": "stdout",
     "output_type": "stream",
     "text": [
      "[2 4 3 2 4 5 4 2 4 4]\n"
     ]
    }
   ],
   "source": [
    "#14. Get the ProductID Array\n",
    "product_array = df['PID'].values\n",
    "print(product_array)\n"
   ]
  },
  {
   "cell_type": "code",
   "execution_count": 49,
   "id": "780857be",
   "metadata": {},
   "outputs": [
    {
     "name": "stdout",
     "output_type": "stream",
     "text": [
      "   UID  PID  Quant TransactionDate  TransactionID\n",
      "0  7.0    2      1      2010-08-21              1\n",
      "2  3.0    3      1      2011-06-16              3\n",
      "5  2.0    5      6      2013-12-23              6\n"
     ]
    }
   ],
   "source": [
    "#Subset rows 1, 3, and 6\n",
    "subset_rows = df.iloc[[0, 2, 5]]\n",
    "print(subset_rows)"
   ]
  },
  {
   "cell_type": "code",
   "execution_count": 50,
   "id": "755a65f5",
   "metadata": {},
   "outputs": [
    {
     "name": "stdout",
     "output_type": "stream",
     "text": [
      "   UID  PID  Quant TransactionDate  TransactionID\n",
      "0  7.0    2      1      2010-08-21              1\n",
      "2  3.0    3      1      2011-06-16              3\n",
      "4  2.0    4      1      2013-06-06              5\n",
      "5  2.0    5      6      2013-12-23              6\n",
      "7  NaN    2      3      2014-04-24              8\n",
      "8  7.0    4      3      2015-04-24              9\n",
      "9  3.0    4      4      2016-05-08             10\n"
     ]
    }
   ],
   "source": [
    "#17. subset rows excluding 1,3 and 6\n",
    "df_subset = df.drop(df.index[[1, 3, 6]])\n",
    "print(df_subset)"
   ]
  },
  {
   "cell_type": "code",
   "execution_count": 54,
   "id": "1c097f73",
   "metadata": {},
   "outputs": [
    {
     "name": "stdout",
     "output_type": "stream",
     "text": [
      "First 3 rows:\n",
      "    UID  PID  Quant TransactionDate  TransactionID\n",
      "0  7.0    2      1      2010-08-21              1\n",
      "1  3.0    4      1      2011-05-26              2\n",
      "2  3.0    3      1      2011-06-16              3\n",
      "\n",
      "Last 2 rows:\n",
      "    UID  PID  Quant TransactionDate  TransactionID\n",
      "8  7.0    4      3      2015-04-24              9\n",
      "9  3.0    4      4      2016-05-08             10\n"
     ]
    }
   ],
   "source": [
    "#18. Subset the first three rows\n",
    "#19. Subset the last 2 rows\n",
    "\n",
    "first_three = df.iloc[:3]\n",
    "print(\"First 3 rows:\\n\", first_three)\n",
    "\n",
    "last_two=df.iloc[-2:]\n",
    "print(\"\\nLast 2 rows:\\n\", last_two)"
   ]
  },
  {
   "cell_type": "code",
   "execution_count": 61,
   "id": "7c33bff7",
   "metadata": {},
   "outputs": [
    {
     "name": "stdout",
     "output_type": "stream",
     "text": [
      "Exc Last two     UID  PID  Quant TransactionDate  TransactionID\n",
      "0  7.0    2      1      2010-08-21              1\n",
      "1  3.0    4      1      2011-05-26              2\n",
      "2  3.0    3      1      2011-06-16              3\n",
      "3  1.0    2      3      2012-08-26              4\n",
      "4  2.0    4      1      2013-06-06              5\n",
      "5  2.0    5      6      2013-12-23              6\n",
      "6  3.0    4      1      2013-12-30              7\n",
      "7  NaN    2      3      2014-04-24              8\n",
      "Exc frist_three    UID  PID  Quant TransactionDate  TransactionID\n",
      "3  1.0    2      3      2012-08-26              4\n",
      "4  2.0    4      1      2013-06-06              5\n",
      "5  2.0    5      6      2013-12-23              6\n",
      "6  3.0    4      1      2013-12-30              7\n",
      "7  NaN    2      3      2014-04-24              8\n",
      "8  7.0    4      3      2015-04-24              9\n",
      "9  3.0    4      4      2016-05-08             10\n"
     ]
    }
   ],
   "source": [
    "#20. Subset rows excluding the last 2 rows\n",
    "#21. Subset rows excluding the first 3 rows\n",
    "\n",
    "last_two=df.iloc[:-2]\n",
    "print(\"Exc Last two \",last_two)\n",
    "\n",
    "frist_three=df.iloc[3:]\n",
    "print(\"Exc frist_three\",frist_three)"
   ]
  },
  {
   "cell_type": "code",
   "execution_count": 65,
   "id": "8c6daebd",
   "metadata": {},
   "outputs": [
    {
     "name": "stdout",
     "output_type": "stream",
     "text": [
      "   UID  PID  Quant TransactionDate  TransactionID\n",
      "3  1.0    2      3      2012-08-26              4\n",
      "5  2.0    5      6      2013-12-23              6\n",
      "7  NaN    2      3      2014-04-24              8\n",
      "8  7.0    4      3      2015-04-24              9\n",
      "9  3.0    4      4      2016-05-08             10\n"
     ]
    }
   ],
   "source": [
    "#22. Subset rows where Quantity>1\n",
    "subset = df[df['Quant'] > 1]\n",
    "\n",
    "print(subset)"
   ]
  },
  {
   "cell_type": "code",
   "execution_count": 74,
   "id": "25ea55c9",
   "metadata": {},
   "outputs": [
    {
     "name": "stdout",
     "output_type": "stream",
     "text": [
      "   UID  PID  Quant TransactionDate  TransactionID\n",
      "4  2.0    4      1      2013-06-06              5\n",
      "5  2.0    5      6      2013-12-23              6\n"
     ]
    }
   ],
   "source": [
    "#23. Subset rows where UserID=2\n",
    "\n",
    "user=df[df['UID']==2]\n",
    "print(user)"
   ]
  },
  {
   "cell_type": "code",
   "execution_count": 76,
   "id": "efafe357",
   "metadata": {},
   "outputs": [
    {
     "name": "stdout",
     "output_type": "stream",
     "text": [
      "   UID  PID  Quant TransactionDate  TransactionID\n",
      "5  2.0    5      6      2013-12-23              6\n"
     ]
    }
   ],
   "source": [
    "#24. Subset rows where Quantity>1 and UserID=2\n",
    "\n",
    "subset = df[(df['Quant']>1) & (df['UID']==2)]\n",
    "print(subset)"
   ]
  },
  {
   "cell_type": "code",
   "execution_count": 77,
   "id": "0c4b7a0e",
   "metadata": {},
   "outputs": [
    {
     "name": "stdout",
     "output_type": "stream",
     "text": [
      "   UID  PID  Quant TransactionDate  TransactionID\n",
      "0  7.0    2      1      2010-08-21              1\n",
      "1  3.0    4      1      2011-05-26              2\n",
      "2  3.0    3      1      2011-06-16              3\n",
      "3  1.0    2      3      2012-08-26              4\n",
      "5  2.0    5      6      2013-12-23              6\n",
      "6  3.0    4      1      2013-12-30              7\n",
      "8  7.0    4      3      2015-04-24              9\n",
      "9  3.0    4      4      2016-05-08             10\n"
     ]
    }
   ],
   "source": [
    "#25. Subset rows where Quantity + UserID is >3\n",
    "\n",
    "subset = df[(df['Quant'] + df['UID']) > 3]\n",
    "print(subset)"
   ]
  },
  {
   "cell_type": "code",
   "execution_count": 88,
   "id": "fcd7ba67",
   "metadata": {},
   "outputs": [
    {
     "name": "stdout",
     "output_type": "stream",
     "text": [
      "   UID  PID  Quant TransactionDate  TransactionID\n",
      "0  7.0    2      1      2010-08-21              1\n",
      "2  3.0    3      1      2011-06-16              3\n",
      "4  2.0    4      1      2013-06-06              5\n",
      "6  3.0    4      1      2013-12-30              7\n",
      "8  7.0    4      3      2015-04-24              9\n",
      "   UID  PID  Quant TransactionDate  TransactionID\n",
      "0  7.0    2      1      2010-08-21              1\n",
      "2  3.0    3      1      2011-06-16              3\n",
      "4  2.0    4      1      2013-06-06              5\n",
      "6  3.0    4      1      2013-12-30              7\n",
      "8  7.0    4      3      2015-04-24              9\n"
     ]
    }
   ],
   "source": [
    "#26. Subset rows where an external array, foo, is True\n",
    "#27. Subset rows where an external array, bar, is positive\n",
    "import numpy as np\n",
    "foo = [True, False, True, False,True, False,True, False,True, False] \n",
    "subset_foo = df[foo]\n",
    "print(subset_foo)\n",
    "\n",
    "bar = [1, -2, 3, -4, 5, -6, 7, -8, 9, -10]\n",
    "bar = np.array(bar)\n",
    "subset_bar = df[bar > 0]\n",
    "\n",
    "print(subset_bar)\n"
   ]
  },
  {
   "cell_type": "code",
   "execution_count": 89,
   "id": "87869d6a",
   "metadata": {},
   "outputs": [
    {
     "name": "stdout",
     "output_type": "stream",
     "text": [
      "   UID  PID  Quant TransactionDate  TransactionID\n",
      "1  3.0    4      1      2011-05-26              2\n",
      "2  3.0    3      1      2011-06-16              3\n",
      "7  NaN    2      3      2014-04-24              8\n"
     ]
    }
   ],
   "source": [
    "#28. Subset rows where foo is TRUE or bar is negative\n",
    "\n",
    "foo=[False,True,True,False,False,False,False,True,False,False]\n",
    "subset=df[foo]\n",
    "print(subset)"
   ]
  },
  {
   "cell_type": "code",
   "execution_count": 92,
   "id": "1a943d64",
   "metadata": {},
   "outputs": [
    {
     "name": "stdout",
     "output_type": "stream",
     "text": [
      "Empty DataFrame\n",
      "Columns: [UID, PID, Quant, TransactionDate, TransactionID]\n",
      "Index: []\n"
     ]
    }
   ],
   "source": [
    "#29. Subset the rows where foo is not TRUE and bar is not negative\n",
    "\n",
    "\n",
    "foo = [True, False, True, False, True, False, True, False, True, False]\n",
    "bar = [1, -2, 3, -4, 5, -6, 7, -8, 9, -10]\n",
    "\n",
    "# Convert bar to numpy array for element-wise comparison\n",
    "bar = np.array(bar)\n",
    "\n",
    "# Subset where foo is NOT True (i.e., False), and bar is NOT negative (i.e., >= 0)\n",
    "subset = df[(np.logical_not(foo)) & (bar >= 0)]\n",
    "\n",
    "# Print the result\n",
    "print(subset)\n"
   ]
  },
  {
   "cell_type": "code",
   "execution_count": 98,
   "id": "39e337db",
   "metadata": {},
   "outputs": [
    {
     "name": "stdout",
     "output_type": "stream",
     "text": [
      "   UID  Quant\n",
      "0  7.0      1\n",
      "1  3.0      1\n",
      "2  3.0      1\n",
      "3  1.0      3\n",
      "4  2.0      1\n",
      "5  2.0      6\n",
      "6  3.0      1\n",
      "7  NaN      3\n",
      "8  7.0      3\n",
      "9  3.0      4\n"
     ]
    }
   ],
   "source": [
    "#30. Subset by columns 1 and 3\n",
    "\n",
    "subset = df.iloc[:,[0,2]]\n",
    "print(subset)"
   ]
  },
  {
   "cell_type": "code",
   "execution_count": 100,
   "id": "c02ed9af",
   "metadata": {},
   "outputs": [
    {
     "name": "stdout",
     "output_type": "stream",
     "text": [
      "   TransactionID TransactionDate\n",
      "0              1      2010-08-21\n",
      "1              2      2011-05-26\n",
      "2              3      2011-06-16\n",
      "3              4      2012-08-26\n",
      "4              5      2013-06-06\n",
      "5              6      2013-12-23\n",
      "6              7      2013-12-30\n",
      "7              8      2014-04-24\n",
      "8              9      2015-04-24\n",
      "9             10      2016-05-08\n"
     ]
    }
   ],
   "source": [
    "#31. Subset by columns TransactionID and TransactionDate\n",
    "\n",
    "subset = df[['TransactionID','TransactionDate']]\n",
    "print(subset)"
   ]
  },
  {
   "cell_type": "code",
   "execution_count": 108,
   "id": "7b291354",
   "metadata": {},
   "outputs": [
    {
     "name": "stdout",
     "output_type": "stream",
     "text": [
      "   TransactionID TransactionDate\n",
      "1              2      2011-05-26\n",
      "2              3      2011-06-16\n",
      "3              4      2012-08-26\n",
      "4              5      2013-06-06\n",
      "5              6      2013-12-23\n",
      "6              7      2013-12-30\n",
      "7              8      2014-04-24\n",
      "8              9      2015-04-24\n",
      "9             10      2016-05-08\n"
     ]
    }
   ],
   "source": [
    "#32. Subset by columns TransactionID and TransactionDate with logical operator\n",
    "\n",
    "subset = df[df['TransactionID'] > 1][['TransactionID', 'TransactionDate']]\n",
    "\n",
    "subsets = df[(df['TransactionID'] > 2) & (df['TransactionDate'] >= '2023-01-01')][['TransactionID', 'TransactionDate']]\n",
    "\n",
    "print(subset)"
   ]
  },
  {
   "cell_type": "code",
   "execution_count": 109,
   "id": "58be0d69",
   "metadata": {},
   "outputs": [
    {
     "name": "stdout",
     "output_type": "stream",
     "text": [
      "   TransactionID TransactionDate\n",
      "0              1      2010-08-21\n",
      "1              2      2011-05-26\n",
      "2              3      2011-06-16\n",
      "3              4      2012-08-26\n",
      "4              5      2013-06-06\n",
      "5              6      2013-12-23\n",
      "6              7      2013-12-30\n",
      "7              8      2014-04-24\n",
      "8              9      2015-04-24\n",
      "9             10      2016-05-08\n"
     ]
    }
   ],
   "source": [
    "#33. Subset columns by a variable list of column names\n",
    "\n",
    "cols = ['TransactionID', 'TransactionDate']\n",
    "subset = df[cols]\n",
    "print(subset)"
   ]
  },
  {
   "cell_type": "code",
   "execution_count": 110,
   "id": "2f47077e",
   "metadata": {},
   "outputs": [
    {
     "name": "stdout",
     "output_type": "stream",
     "text": [
      "   UID  PID  Quant\n",
      "0  7.0    2      1\n",
      "1  3.0    4      1\n",
      "2  3.0    3      1\n",
      "3  1.0    2      3\n",
      "4  2.0    4      1\n",
      "5  2.0    5      6\n",
      "6  3.0    4      1\n",
      "7  NaN    2      3\n",
      "8  7.0    4      3\n",
      "9  3.0    4      4\n"
     ]
    }
   ],
   "source": [
    "#34. Subset columns excluding a variable list of column names\n",
    "\n",
    "exclude_cols = ['TransactionID', 'TransactionDate']\n",
    "subset = df[[col for col in df.columns if col not in exclude_cols]]\n",
    "print(subset)"
   ]
  },
  {
   "cell_type": "code",
   "execution_count": 112,
   "id": "4054dbcb",
   "metadata": {},
   "outputs": [],
   "source": [
    "#35. Inserting and updating values\n",
    "\n",
    "df['NewColumn'] = 'default'        # Insert new column with default value\n",
    "df.loc[0, 'NewColumn'] = 'updated' # Update a specific cell\n",
    "df.loc[df['UID']== 2, 'NewColumn'] = 'special'  # Update conditionally\n"
   ]
  },
  {
   "cell_type": "code",
   "execution_count": 115,
   "id": "5a4170c9",
   "metadata": {},
   "outputs": [
    {
     "name": "stdout",
     "output_type": "stream",
     "text": [
      "   UID  PID  Quant TransactionDate  TransactionID NewColumn\n",
      "0  7.0    2      1      2010-08-21              1   updated\n",
      "1  3.0    4      1      2011-05-26              2   default\n",
      "2  3.0    3      1      2011-06-16              3   default\n",
      "3  1.0    2      3      2012-08-26              4   default\n",
      "4  2.0    4      1      2013-06-06              5   special\n",
      "5  2.0    5      6      2013-12-23              6   special\n",
      "6  3.0    4      1      2013-12-30              7   default\n",
      "7  NaN    2      3      2014-04-24              8   default\n",
      "8  7.0    4      3      2015-04-24              9   default\n",
      "9  3.0    4      4      2016-05-08             10   default\n"
     ]
    }
   ],
   "source": [
    "#36. Convert the TransactionDate column to type Date\n",
    "\n",
    "df['TransactionDate'] = pd.to_datetime(df['TransactionDate'])\n",
    "print(df)"
   ]
  },
  {
   "cell_type": "code",
   "execution_count": 118,
   "id": "f09cf1dd",
   "metadata": {},
   "outputs": [
    {
     "name": "stdout",
     "output_type": "stream",
     "text": [
      "   UID  PID  Quant TransactionDate  TransactionID NewColumn   Foo\n",
      "0  7.0    2      1      2010-08-21              1   updated   9.0\n",
      "1  3.0    4      1      2011-05-26              2   default   7.0\n",
      "2  3.0    3      1      2011-06-16              3   default   6.0\n",
      "3  1.0    2      3      2012-08-26              4   default   3.0\n",
      "4  2.0    4      1      2013-06-06              5   special   6.0\n",
      "5  2.0    5      6      2013-12-23              6   special   7.0\n",
      "6  3.0    4      1      2013-12-30              7   default   7.0\n",
      "7  NaN    2      3      2014-04-24              8   default   NaN\n",
      "8  7.0    4      3      2015-04-24              9   default  11.0\n",
      "9  3.0    4      4      2016-05-08             10   default   7.0\n"
     ]
    }
   ],
   "source": [
    "#37. Insert a new column, Foo=UserID+ProductID\n",
    "\n",
    "df['Foo'] = df['UID'] + df['PID']\n",
    "print(df)"
   ]
  },
  {
   "cell_type": "code",
   "execution_count": null,
   "id": "499eeb48",
   "metadata": {},
   "outputs": [],
   "source": []
  }
 ],
 "metadata": {
  "kernelspec": {
   "display_name": "Python 3 (ipykernel)",
   "language": "python",
   "name": "python3"
  },
  "language_info": {
   "codemirror_mode": {
    "name": "ipython",
    "version": 3
   },
   "file_extension": ".py",
   "mimetype": "text/x-python",
   "name": "python",
   "nbconvert_exporter": "python",
   "pygments_lexer": "ipython3",
   "version": "3.12.3"
  }
 },
 "nbformat": 4,
 "nbformat_minor": 5
}
